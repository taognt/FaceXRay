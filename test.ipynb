{
 "cells": [
  {
   "cell_type": "code",
   "execution_count": null,
   "metadata": {},
   "outputs": [
    {
     "name": "stderr",
     "output_type": "stream",
     "text": [
      "Moving .jpg files:  50%|█████     | 20315/40360 [00:13<00:14, 1387.33it/s]"
     ]
    }
   ],
   "source": [
    "import os\n",
    "import shutil\n",
    "from tqdm import tqdm\n",
    "\n",
    "# Define paths\n",
    "root_dir = 'images/Real'  # Current directory\n",
    "train_dir = os.path.join(root_dir, 'train')\n",
    "\n",
    "# Create train folder if it doesn't exist\n",
    "os.makedirs(train_dir, exist_ok=True)\n",
    "\n",
    "jpg_files = [f for f in os.listdir(root_dir) if f.lower().endswith('.jpg')]\n",
    "\n",
    "# Move all .jpg files with progress bar\n",
    "for file_name in tqdm(jpg_files, desc=\"Moving .jpg files\"):\n",
    "    source_path = os.path.join(root_dir, file_name)\n",
    "    destination_path = os.path.join(train_dir, file_name)\n",
    "    shutil.move(source_path, destination_path)\n",
    "\n",
    "print(\"All .jpg files have been moved to the train/ folder.\")"
   ]
  }
 ],
 "metadata": {
  "kernelspec": {
   "display_name": "venv",
   "language": "python",
   "name": "python3"
  },
  "language_info": {
   "codemirror_mode": {
    "name": "ipython",
    "version": 3
   },
   "file_extension": ".py",
   "mimetype": "text/x-python",
   "name": "python",
   "nbconvert_exporter": "python",
   "pygments_lexer": "ipython3",
   "version": "3.12.0"
  }
 },
 "nbformat": 4,
 "nbformat_minor": 2
}
